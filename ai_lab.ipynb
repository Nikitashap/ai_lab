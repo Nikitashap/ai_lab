{
 "cells": [
  {
   "cell_type": "markdown",
   "id": "0feacd9e",
   "metadata": {},
   "source": [
    "Подключаем необходимыые библиотеки"
   ]
  },
  {
   "cell_type": "code",
   "execution_count": 1,
   "id": "0019bdc8",
   "metadata": {},
   "outputs": [],
   "source": [
    "import numpy as np\n",
    "import pandas as pd \n",
    "import matplotlib.pyplot as plt\n",
    "import seaborn as sns\n",
    "from sklearn.preprocessing import MinMaxScaler\n",
    "from sklearn.model_selection import train_test_split, GridSearchCV\n",
    "from sklearn.impute import SimpleImputer\n",
    "from sklearn.linear_model import LinearRegression, LogisticRegression, Ridge\n",
    "from sklearn.svm import SVC\n",
    "from sklearn.neighbors import KNeighborsClassifier, KNeighborsRegressor\n",
    "from sklearn.ensemble import RandomForestClassifier, RandomForestRegressor, GradientBoostingClassifier, GradientBoostingRegressor\n",
    "from sklearn.metrics import accuracy_score , confusion_matrix , classification_report, mean_squared_error, mean_absolute_error\n",
    "from sklearn.tree import DecisionTreeClassifier, DecisionTreeRegressor\n",
    "from sklearn.preprocessing import StandardScaler\n",
    "from tqdm import tqdm\n",
    "from joblib import Parallel, delayed\n",
    "from collections import Counter\n",
    "\n",
    "\n",
    "\n"
   ]
  },
  {
   "cell_type": "markdown",
   "id": "d3d8cd9b",
   "metadata": {},
   "source": [
    "Загружаем датасет для задачи классификации"
   ]
  },
  {
   "cell_type": "code",
   "execution_count": 2,
   "id": "77e85bf4",
   "metadata": {},
   "outputs": [],
   "source": [
    "data=pd.read_csv('machine_failure_dataset.csv')"
   ]
  },
  {
   "cell_type": "markdown",
   "id": "b34cf4b6",
   "metadata": {},
   "source": [
    "Информация о датасете"
   ]
  },
  {
   "cell_type": "code",
   "execution_count": 3,
   "id": "121fec14",
   "metadata": {},
   "outputs": [
    {
     "data": {
      "text/html": [
       "<div>\n",
       "<style scoped>\n",
       "    .dataframe tbody tr th:only-of-type {\n",
       "        vertical-align: middle;\n",
       "    }\n",
       "\n",
       "    .dataframe tbody tr th {\n",
       "        vertical-align: top;\n",
       "    }\n",
       "\n",
       "    .dataframe thead th {\n",
       "        text-align: right;\n",
       "    }\n",
       "</style>\n",
       "<table border=\"1\" class=\"dataframe\">\n",
       "  <thead>\n",
       "    <tr style=\"text-align: right;\">\n",
       "      <th></th>\n",
       "      <th>Temperature</th>\n",
       "      <th>Vibration</th>\n",
       "      <th>Power_Usage</th>\n",
       "      <th>Humidity</th>\n",
       "      <th>Machine_Type</th>\n",
       "      <th>Failure_Risk</th>\n",
       "    </tr>\n",
       "  </thead>\n",
       "  <tbody>\n",
       "    <tr>\n",
       "      <th>0</th>\n",
       "      <td>74.967142</td>\n",
       "      <td>56.996777</td>\n",
       "      <td>8.649643</td>\n",
       "      <td>20.460962</td>\n",
       "      <td>Mill</td>\n",
       "      <td>1</td>\n",
       "    </tr>\n",
       "    <tr>\n",
       "      <th>1</th>\n",
       "      <td>68.617357</td>\n",
       "      <td>54.623168</td>\n",
       "      <td>9.710963</td>\n",
       "      <td>25.698075</td>\n",
       "      <td>Lathe</td>\n",
       "      <td>0</td>\n",
       "    </tr>\n",
       "    <tr>\n",
       "      <th>2</th>\n",
       "      <td>76.476885</td>\n",
       "      <td>50.298152</td>\n",
       "      <td>8.415160</td>\n",
       "      <td>27.931972</td>\n",
       "      <td>Drill</td>\n",
       "      <td>1</td>\n",
       "    </tr>\n",
       "    <tr>\n",
       "      <th>3</th>\n",
       "      <td>85.230299</td>\n",
       "      <td>46.765316</td>\n",
       "      <td>9.384077</td>\n",
       "      <td>39.438438</td>\n",
       "      <td>Lathe</td>\n",
       "      <td>1</td>\n",
       "    </tr>\n",
       "    <tr>\n",
       "      <th>4</th>\n",
       "      <td>67.658466</td>\n",
       "      <td>53.491117</td>\n",
       "      <td>6.212771</td>\n",
       "      <td>32.782766</td>\n",
       "      <td>Drill</td>\n",
       "      <td>1</td>\n",
       "    </tr>\n",
       "  </tbody>\n",
       "</table>\n",
       "</div>"
      ],
      "text/plain": [
       "   Temperature  Vibration  Power_Usage   Humidity Machine_Type  Failure_Risk\n",
       "0    74.967142  56.996777     8.649643  20.460962         Mill             1\n",
       "1    68.617357  54.623168     9.710963  25.698075        Lathe             0\n",
       "2    76.476885  50.298152     8.415160  27.931972        Drill             1\n",
       "3    85.230299  46.765316     9.384077  39.438438        Lathe             1\n",
       "4    67.658466  53.491117     6.212771  32.782766        Drill             1"
      ]
     },
     "execution_count": 3,
     "metadata": {},
     "output_type": "execute_result"
    }
   ],
   "source": [
    "data.head()"
   ]
  },
  {
   "cell_type": "code",
   "execution_count": 4,
   "id": "c5543ca6",
   "metadata": {},
   "outputs": [
    {
     "name": "stdout",
     "output_type": "stream",
     "text": [
      "<class 'pandas.core.frame.DataFrame'>\n",
      "RangeIndex: 1000 entries, 0 to 999\n",
      "Data columns (total 6 columns):\n",
      " #   Column        Non-Null Count  Dtype  \n",
      "---  ------        --------------  -----  \n",
      " 0   Temperature   1000 non-null   float64\n",
      " 1   Vibration     1000 non-null   float64\n",
      " 2   Power_Usage   1000 non-null   float64\n",
      " 3   Humidity      1000 non-null   float64\n",
      " 4   Machine_Type  1000 non-null   object \n",
      " 5   Failure_Risk  1000 non-null   int64  \n",
      "dtypes: float64(4), int64(1), object(1)\n",
      "memory usage: 47.0+ KB\n"
     ]
    }
   ],
   "source": [
    "data.info()"
   ]
  },
  {
   "cell_type": "markdown",
   "id": "5e1e0f29",
   "metadata": {},
   "source": [
    "Проверяем на наличие нулевых ячееек и дубликатов"
   ]
  },
  {
   "cell_type": "code",
   "execution_count": 5,
   "id": "d221b87f",
   "metadata": {},
   "outputs": [
    {
     "data": {
      "text/plain": [
       "Temperature     0\n",
       "Vibration       0\n",
       "Power_Usage     0\n",
       "Humidity        0\n",
       "Machine_Type    0\n",
       "Failure_Risk    0\n",
       "dtype: int64"
      ]
     },
     "execution_count": 5,
     "metadata": {},
     "output_type": "execute_result"
    }
   ],
   "source": [
    "data.isnull().sum()"
   ]
  },
  {
   "cell_type": "code",
   "execution_count": 6,
   "id": "c11b169e",
   "metadata": {},
   "outputs": [
    {
     "data": {
      "text/plain": [
       "0"
      ]
     },
     "execution_count": 6,
     "metadata": {},
     "output_type": "execute_result"
    }
   ],
   "source": [
    "data.duplicated().sum()"
   ]
  },
  {
   "cell_type": "markdown",
   "id": "d4a505ab",
   "metadata": {},
   "source": [
    "Убираем колонку Machine_Type"
   ]
  },
  {
   "cell_type": "code",
   "execution_count": 7,
   "id": "f5859a3a",
   "metadata": {},
   "outputs": [],
   "source": [
    "data = pd.get_dummies(data,columns = ['Machine_Type'],drop_first = True)"
   ]
  },
  {
   "cell_type": "markdown",
   "id": "b4f50100",
   "metadata": {},
   "source": [
    "Делим датасет на фичи (x) и таргет (y) "
   ]
  },
  {
   "cell_type": "code",
   "execution_count": 8,
   "id": "9f36445a",
   "metadata": {},
   "outputs": [],
   "source": [
    "x = data.drop(['Failure_Risk'],axis = 1)\n",
    "y = data.Failure_Risk"
   ]
  },
  {
   "cell_type": "code",
   "execution_count": 9,
   "id": "01b637e7",
   "metadata": {},
   "outputs": [],
   "source": [
    "from sklearn.preprocessing import MinMaxScaler\n",
    "\n",
    "scaler = MinMaxScaler()\n",
    "x_scaled = scaler.fit_transform(x)"
   ]
  },
  {
   "cell_type": "markdown",
   "id": "a29d4f6d",
   "metadata": {},
   "source": [
    "Делим датасет на тренировочный и тестовый"
   ]
  },
  {
   "cell_type": "code",
   "execution_count": 10,
   "id": "d122b6fd",
   "metadata": {},
   "outputs": [],
   "source": [
    "x_train,x_test,y_train,y_test=train_test_split(x_scaled,y,test_size=0.2,random_state=42)"
   ]
  },
  {
   "cell_type": "markdown",
   "id": "a29cf165",
   "metadata": {},
   "source": [
    "Загружаем датасет для задачи регрессии и смотрим информацию о нем"
   ]
  },
  {
   "cell_type": "code",
   "execution_count": 11,
   "id": "5e40c44d",
   "metadata": {},
   "outputs": [
    {
     "data": {
      "text/html": [
       "<div>\n",
       "<style scoped>\n",
       "    .dataframe tbody tr th:only-of-type {\n",
       "        vertical-align: middle;\n",
       "    }\n",
       "\n",
       "    .dataframe tbody tr th {\n",
       "        vertical-align: top;\n",
       "    }\n",
       "\n",
       "    .dataframe thead th {\n",
       "        text-align: right;\n",
       "    }\n",
       "</style>\n",
       "<table border=\"1\" class=\"dataframe\">\n",
       "  <thead>\n",
       "    <tr style=\"text-align: right;\">\n",
       "      <th></th>\n",
       "      <th>ID</th>\n",
       "      <th>Age</th>\n",
       "      <th>Gender</th>\n",
       "      <th>Bedtime</th>\n",
       "      <th>Wakeup time</th>\n",
       "      <th>Sleep duration</th>\n",
       "      <th>Sleep efficiency</th>\n",
       "      <th>REM sleep percentage</th>\n",
       "      <th>Deep sleep percentage</th>\n",
       "      <th>Light sleep percentage</th>\n",
       "      <th>Awakenings</th>\n",
       "      <th>Caffeine consumption</th>\n",
       "      <th>Alcohol consumption</th>\n",
       "      <th>Smoking status</th>\n",
       "      <th>Exercise frequency</th>\n",
       "    </tr>\n",
       "  </thead>\n",
       "  <tbody>\n",
       "    <tr>\n",
       "      <th>0</th>\n",
       "      <td>1</td>\n",
       "      <td>65</td>\n",
       "      <td>Female</td>\n",
       "      <td>2021-03-06 01:00:00</td>\n",
       "      <td>2021-03-06 07:00:00</td>\n",
       "      <td>6.0</td>\n",
       "      <td>0.88</td>\n",
       "      <td>18</td>\n",
       "      <td>70</td>\n",
       "      <td>12</td>\n",
       "      <td>0.0</td>\n",
       "      <td>0.0</td>\n",
       "      <td>0.0</td>\n",
       "      <td>Yes</td>\n",
       "      <td>3.0</td>\n",
       "    </tr>\n",
       "    <tr>\n",
       "      <th>1</th>\n",
       "      <td>2</td>\n",
       "      <td>69</td>\n",
       "      <td>Male</td>\n",
       "      <td>2021-12-05 02:00:00</td>\n",
       "      <td>2021-12-05 09:00:00</td>\n",
       "      <td>7.0</td>\n",
       "      <td>0.66</td>\n",
       "      <td>19</td>\n",
       "      <td>28</td>\n",
       "      <td>53</td>\n",
       "      <td>3.0</td>\n",
       "      <td>0.0</td>\n",
       "      <td>3.0</td>\n",
       "      <td>Yes</td>\n",
       "      <td>3.0</td>\n",
       "    </tr>\n",
       "    <tr>\n",
       "      <th>2</th>\n",
       "      <td>3</td>\n",
       "      <td>40</td>\n",
       "      <td>Female</td>\n",
       "      <td>2021-05-25 21:30:00</td>\n",
       "      <td>2021-05-25 05:30:00</td>\n",
       "      <td>8.0</td>\n",
       "      <td>0.89</td>\n",
       "      <td>20</td>\n",
       "      <td>70</td>\n",
       "      <td>10</td>\n",
       "      <td>1.0</td>\n",
       "      <td>0.0</td>\n",
       "      <td>0.0</td>\n",
       "      <td>No</td>\n",
       "      <td>3.0</td>\n",
       "    </tr>\n",
       "    <tr>\n",
       "      <th>3</th>\n",
       "      <td>4</td>\n",
       "      <td>40</td>\n",
       "      <td>Female</td>\n",
       "      <td>2021-11-03 02:30:00</td>\n",
       "      <td>2021-11-03 08:30:00</td>\n",
       "      <td>6.0</td>\n",
       "      <td>0.51</td>\n",
       "      <td>23</td>\n",
       "      <td>25</td>\n",
       "      <td>52</td>\n",
       "      <td>3.0</td>\n",
       "      <td>50.0</td>\n",
       "      <td>5.0</td>\n",
       "      <td>Yes</td>\n",
       "      <td>1.0</td>\n",
       "    </tr>\n",
       "    <tr>\n",
       "      <th>4</th>\n",
       "      <td>5</td>\n",
       "      <td>57</td>\n",
       "      <td>Male</td>\n",
       "      <td>2021-03-13 01:00:00</td>\n",
       "      <td>2021-03-13 09:00:00</td>\n",
       "      <td>8.0</td>\n",
       "      <td>0.76</td>\n",
       "      <td>27</td>\n",
       "      <td>55</td>\n",
       "      <td>18</td>\n",
       "      <td>3.0</td>\n",
       "      <td>0.0</td>\n",
       "      <td>3.0</td>\n",
       "      <td>No</td>\n",
       "      <td>3.0</td>\n",
       "    </tr>\n",
       "  </tbody>\n",
       "</table>\n",
       "</div>"
      ],
      "text/plain": [
       "   ID  Age  Gender              Bedtime          Wakeup time  Sleep duration  \\\n",
       "0   1   65  Female  2021-03-06 01:00:00  2021-03-06 07:00:00             6.0   \n",
       "1   2   69    Male  2021-12-05 02:00:00  2021-12-05 09:00:00             7.0   \n",
       "2   3   40  Female  2021-05-25 21:30:00  2021-05-25 05:30:00             8.0   \n",
       "3   4   40  Female  2021-11-03 02:30:00  2021-11-03 08:30:00             6.0   \n",
       "4   5   57    Male  2021-03-13 01:00:00  2021-03-13 09:00:00             8.0   \n",
       "\n",
       "   Sleep efficiency  REM sleep percentage  Deep sleep percentage  \\\n",
       "0              0.88                    18                     70   \n",
       "1              0.66                    19                     28   \n",
       "2              0.89                    20                     70   \n",
       "3              0.51                    23                     25   \n",
       "4              0.76                    27                     55   \n",
       "\n",
       "   Light sleep percentage  Awakenings  Caffeine consumption  \\\n",
       "0                      12         0.0                   0.0   \n",
       "1                      53         3.0                   0.0   \n",
       "2                      10         1.0                   0.0   \n",
       "3                      52         3.0                  50.0   \n",
       "4                      18         3.0                   0.0   \n",
       "\n",
       "   Alcohol consumption Smoking status  Exercise frequency  \n",
       "0                  0.0            Yes                 3.0  \n",
       "1                  3.0            Yes                 3.0  \n",
       "2                  0.0             No                 3.0  \n",
       "3                  5.0            Yes                 1.0  \n",
       "4                  3.0             No                 3.0  "
      ]
     },
     "execution_count": 11,
     "metadata": {},
     "output_type": "execute_result"
    }
   ],
   "source": [
    "df = pd.read_csv(\"Sleep_Efficiency.csv\")\n",
    "df.head()"
   ]
  },
  {
   "cell_type": "code",
   "execution_count": 12,
   "id": "d7371314",
   "metadata": {},
   "outputs": [],
   "source": [
    "mode_imputer = SimpleImputer(strategy='most_frequent')\n",
    "mean_imputer = SimpleImputer(strategy='mean')\n",
    "df['Awakenings'] = mode_imputer.fit_transform(df[['Awakenings']])\n",
    "df['Exercise frequency'] = mode_imputer.fit_transform(df[['Exercise frequency']])\n",
    "df['Caffeine consumption'] = mean_imputer.fit_transform(df[['Caffeine consumption']])\n",
    "df['Alcohol consumption'] = mean_imputer.fit_transform(df[['Alcohol consumption']])"
   ]
  },
  {
   "cell_type": "markdown",
   "id": "7c49517d",
   "metadata": {},
   "source": [
    "Убираем дупликаты"
   ]
  },
  {
   "cell_type": "code",
   "execution_count": 13,
   "id": "cf213e68",
   "metadata": {},
   "outputs": [],
   "source": [
    "df.drop_duplicates(subset='ID')\n",
    "df=df.drop(columns='ID', axis=1)"
   ]
  },
  {
   "cell_type": "markdown",
   "id": "37f94b4b",
   "metadata": {},
   "source": [
    "Преобразовываем значения в столбце Smoking status в значения 1, 0"
   ]
  },
  {
   "cell_type": "code",
   "execution_count": 14,
   "id": "5d7cde08",
   "metadata": {},
   "outputs": [],
   "source": [
    "df['Smoking status'] = df['Smoking status'].map({'Yes': 1, 'No': 0})"
   ]
  },
  {
   "cell_type": "markdown",
   "id": "d8fab97c",
   "metadata": {},
   "source": [
    "Убираем столбец Gender"
   ]
  },
  {
   "cell_type": "code",
   "execution_count": 15,
   "id": "1055fb80",
   "metadata": {},
   "outputs": [],
   "source": [
    "df=pd.concat([df,pd.get_dummies(df['Gender'])], axis=1)\n",
    "df=df.drop('Gender', axis=1)"
   ]
  },
  {
   "cell_type": "markdown",
   "id": "30f52ce1",
   "metadata": {},
   "source": [
    "Перевод столбцов Bedtime и Wakeup time в формат"
   ]
  },
  {
   "cell_type": "code",
   "execution_count": 16,
   "id": "556fcdbe",
   "metadata": {},
   "outputs": [],
   "source": [
    "df['Bedtime'] = pd.to_datetime(df['Bedtime']).dt.hour\n",
    "df['Wakeup time'] = pd.to_datetime(df['Wakeup time']).dt.hour"
   ]
  },
  {
   "cell_type": "code",
   "execution_count": 17,
   "id": "7e8557f7",
   "metadata": {},
   "outputs": [],
   "source": [
    "df['Caffeine consumption'] = df['Caffeine consumption'].round(2)"
   ]
  },
  {
   "cell_type": "markdown",
   "id": "b7e5143b",
   "metadata": {},
   "source": [
    "Делим датасет на фичи (w) и таргет (z) и делим их на тестовый и тренировачный"
   ]
  },
  {
   "cell_type": "code",
   "execution_count": 18,
   "id": "6f35ca9e",
   "metadata": {},
   "outputs": [],
   "source": [
    "z = df.drop('Sleep efficiency', axis=1)\n",
    "w = df['Sleep efficiency']"
   ]
  },
  {
   "cell_type": "code",
   "execution_count": 19,
   "id": "1dbd770b",
   "metadata": {},
   "outputs": [],
   "source": [
    "scaler = MinMaxScaler()\n",
    "z_scaled = scaler.fit_transform(z)"
   ]
  },
  {
   "cell_type": "code",
   "execution_count": 20,
   "id": "311f1c20",
   "metadata": {},
   "outputs": [],
   "source": [
    "z_train, z_test, w_train, w_test = train_test_split(z_scaled, w, test_size=0.2,random_state=42)"
   ]
  },
  {
   "cell_type": "markdown",
   "id": "f25ef41e",
   "metadata": {},
   "source": [
    "#                                               LAB 1 -  KNN "
   ]
  },
  {
   "cell_type": "markdown",
   "id": "04aea164",
   "metadata": {},
   "source": [
    "#### Создание бейзлайна и оценка качества для модели KNN"
   ]
  },
  {
   "cell_type": "code",
   "execution_count": 21,
   "id": "e7ba4795",
   "metadata": {},
   "outputs": [
    {
     "name": "stdout",
     "output_type": "stream",
     "text": [
      "Accuracy: 0.625\n"
     ]
    }
   ],
   "source": [
    "knn_clas = KNeighborsClassifier(n_neighbors=5)\n",
    "knn_clas.fit(x_train, y_train)\n",
    "y_pred = knn_clas.predict(x_test)\n",
    "print(\"Accuracy:\", accuracy_score(y_test, y_pred))"
   ]
  },
  {
   "cell_type": "code",
   "execution_count": 22,
   "id": "518e5204",
   "metadata": {},
   "outputs": [
    {
     "name": "stdout",
     "output_type": "stream",
     "text": [
      "MSE: 0.0032619340659340653\n"
     ]
    }
   ],
   "source": [
    "knn_reg = KNeighborsRegressor()\n",
    "knn_reg.fit(z_train, w_train)\n",
    "w_pred = knn_reg.predict(z_test)\n",
    "print(\"MSE:\", mean_squared_error(w_test, w_pred))"
   ]
  },
  {
   "cell_type": "markdown",
   "id": "a433ad68",
   "metadata": {},
   "source": [
    "#### Улучшение бейзлайна за счет подбора гиперпараметров"
   ]
  },
  {
   "cell_type": "code",
   "execution_count": 23,
   "id": "850e5c21",
   "metadata": {},
   "outputs": [
    {
     "name": "stdout",
     "output_type": "stream",
     "text": [
      "Accuracy: 0.655\n"
     ]
    }
   ],
   "source": [
    "params = {'n_neighbors': [1, 2, 3, 4, 5], 'weights': ['uniform', 'distance']}\n",
    "grid_class = GridSearchCV(KNeighborsClassifier(), params, cv=5, scoring='accuracy')\n",
    "grid_class.fit(x_train, y_train)\n",
    "knn_clas_grid = grid_class.best_estimator_\n",
    "y_pred = knn_clas_grid.predict(x_test)\n",
    "print(\"Accuracy:\", accuracy_score(y_test, y_pred))"
   ]
  },
  {
   "cell_type": "code",
   "execution_count": 59,
   "id": "30edb39b",
   "metadata": {},
   "outputs": [
    {
     "name": "stdout",
     "output_type": "stream",
     "text": [
      "MSE: 0.003253538683766209\n"
     ]
    }
   ],
   "source": [
    "params = {'n_neighbors': [1, 5], 'weights': ['uniform', 'distance']}\n",
    "grid_reg = GridSearchCV(KNeighborsRegressor(), params, cv=5, scoring='neg_mean_squared_error')\n",
    "grid_reg.fit(z_train, w_train)\n",
    "knn_reg_grid = grid_reg.best_estimator_\n",
    "w_pred = knn_reg_grid.predict(z_test)\n",
    "print(\"MSE:\", mean_squared_error(w_test, w_pred))"
   ]
  },
  {
   "cell_type": "markdown",
   "id": "bd5d211b",
   "metadata": {},
   "source": [
    "#### Реализация алгоритма KNN"
   ]
  },
  {
   "cell_type": "code",
   "execution_count": 25,
   "id": "106ffcd8",
   "metadata": {},
   "outputs": [],
   "source": [
    "class KNN:\n",
    "    \n",
    "    def __init__(self, k=3, metric=\"euclidean\", mode=\"classification\"):\n",
    "        self.k = k\n",
    "        self.metric = metric\n",
    "        self.mode = mode\n",
    "        self.X_train = None\n",
    "        self.y_train = None\n",
    "        \n",
    "    def _euclidean_distance(self, x1, x2):\n",
    "        return np.sqrt(np.sum((x1 - x2)**2))\n",
    "    \n",
    "    def _manhattan_distance(self, x1, x2):\n",
    "        return np.sum(np.abs(x1 - x2))\n",
    "        \n",
    "    def _calculate_distance(self, x1, x2):\n",
    "         if self.metric == \"euclidean\":\n",
    "             return self._euclidean_distance(x1, x2)\n",
    "         elif self.metric == \"manhattan\":\n",
    "              return self._manhattan_distance(x1,x2)\n",
    "    def fit(self, X, y):\n",
    "        self.X_train = np.array(X) \n",
    "        self.y_train = np.array(y)\n",
    "        \n",
    "    def predict_point(self, x):\n",
    "        \n",
    "        distances = [self._calculate_distance(x, x_train) for x_train in self.X_train]\n",
    "        k_indices = np.argsort(distances)[:self.k] \n",
    "        k_nearest_labels = [self.y_train[i] for i in k_indices]\n",
    "        \n",
    "        if self.mode == \"classification\":\n",
    "            most_common = Counter(k_nearest_labels).most_common(1) \n",
    "            return most_common[0][0] \n",
    "        elif self.mode == \"regression\":\n",
    "            return np.mean(k_nearest_labels) \n",
    "        \n",
    "    def predict(self, X):\n",
    "       \n",
    "        return np.array([self.predict_point(x) for x in X])\n",
    "\n",
    "    def evaluate(self, X, y_true):\n",
    "        y_pred = self.predict(X)\n",
    "\n",
    "        if self.mode == \"classification\":\n",
    "             return accuracy_score(y_true, y_pred)\n",
    "        elif self.mode == \"regression\":\n",
    "            return mean_squared_error(y_true, y_pred)\n",
    "     \n",
    "\n"
   ]
  },
  {
   "cell_type": "markdown",
   "id": "3687c365",
   "metadata": {},
   "source": [
    "#### Обучение модели о оценка качества"
   ]
  },
  {
   "cell_type": "code",
   "execution_count": 26,
   "id": "db763f2c",
   "metadata": {},
   "outputs": [
    {
     "name": "stdout",
     "output_type": "stream",
     "text": [
      "Accuracy: 0.59\n"
     ]
    }
   ],
   "source": [
    "model_clas = KNN(k=3, metric=\"euclidean\", mode=\"classification\")\n",
    "model_clas.fit(x_train, y_train)\n",
    "accuracy = model_clas.evaluate(x_test, y_test)\n",
    "print(f\"Accuracy: {accuracy}\")"
   ]
  },
  {
   "cell_type": "code",
   "execution_count": 27,
   "id": "5641f487",
   "metadata": {},
   "outputs": [
    {
     "name": "stdout",
     "output_type": "stream",
     "text": [
      "MSE: 0.004254395604395606\n"
     ]
    }
   ],
   "source": [
    "model_reg = KNN(k=2, metric=\"manhattan\", mode=\"regression\")\n",
    "model_reg.fit(z_train, w_train)\n",
    "mse = model_reg.evaluate(z_test, w_test)\n",
    "print(f\"MSE: {mse}\")"
   ]
  },
  {
   "cell_type": "markdown",
   "id": "ff131d79",
   "metadata": {},
   "source": [
    "# LAB 2 - LOGISTIC AND LINEAR REGRESSION"
   ]
  },
  {
   "cell_type": "markdown",
   "id": "85cd6db3",
   "metadata": {},
   "source": [
    "#### Создание бейзлайна и оценка качества для модели логистической и линейной регрессии"
   ]
  },
  {
   "cell_type": "code",
   "execution_count": 28,
   "id": "fa83181e",
   "metadata": {},
   "outputs": [
    {
     "name": "stdout",
     "output_type": "stream",
     "text": [
      "Accuracy: 0.675\n"
     ]
    }
   ],
   "source": [
    "lr_clas = LogisticRegression()\n",
    "lr_clas.fit(x_train, y_train)\n",
    "y_pred = lr_clas.predict(x_test)\n",
    "print(\"Accuracy:\", accuracy_score(y_test, y_pred))"
   ]
  },
  {
   "cell_type": "code",
   "execution_count": 29,
   "id": "7ce00336",
   "metadata": {},
   "outputs": [
    {
     "name": "stdout",
     "output_type": "stream",
     "text": [
      "MSE: 0.22627973936551224\n"
     ]
    }
   ],
   "source": [
    "lr_reg = LinearRegression()\n",
    "lr_reg.fit(x_train, y_train)\n",
    "y_pred = lr_reg.predict(x_test)\n",
    "print(\"MSE:\", mean_squared_error(y_test, y_pred))"
   ]
  },
  {
   "cell_type": "markdown",
   "id": "0e2d1b31",
   "metadata": {},
   "source": [
    "#### Улучшение бейзлайна за счет подбора гиперпараметров"
   ]
  },
  {
   "cell_type": "code",
   "execution_count": 30,
   "id": "d1077f23",
   "metadata": {},
   "outputs": [
    {
     "name": "stdout",
     "output_type": "stream",
     "text": [
      "Accuracy: 0.675\n"
     ]
    }
   ],
   "source": [
    "params = {'C': [0.01, 0.1, 1, 10, 75, 1000]}\n",
    "grid_clas = GridSearchCV(LogisticRegression(), params, cv=5, scoring='accuracy')\n",
    "grid_clas.fit(x_train, y_train)\n",
    "lr_clas_gris = grid_clas.best_estimator_\n",
    "y_pred = lr_clas_gris.predict(x_test)\n",
    "print(\"Accuracy:\", accuracy_score(y_test, y_pred))"
   ]
  },
  {
   "cell_type": "code",
   "execution_count": 31,
   "id": "717f8356",
   "metadata": {},
   "outputs": [
    {
     "name": "stdout",
     "output_type": "stream",
     "text": [
      "MSE: 0.22126252774741673\n"
     ]
    }
   ],
   "source": [
    "params = {'alpha': [0.1, 1, 10, 100]}\n",
    "grid_reg = GridSearchCV(Ridge(), params, cv=5, scoring='neg_mean_squared_error')\n",
    "grid_reg.fit(x_train, y_train)\n",
    "lr_reg_gris = grid_reg.best_estimator_\n",
    "y_pred = lr_reg_gris.predict(x_test)\n",
    "print(\"MSE:\", mean_squared_error(y_test, y_pred))"
   ]
  },
  {
   "cell_type": "markdown",
   "id": "de80450e",
   "metadata": {},
   "source": [
    "#### Реализация алгоритма линейной регрессии"
   ]
  },
  {
   "cell_type": "code",
   "execution_count": 32,
   "id": "8ed18e7b",
   "metadata": {},
   "outputs": [],
   "source": [
    "class LinearRegression:\n",
    "   \n",
    "    def __init__(self, learning_rate=0.01, n_iterations=1000, fit_intercept=True):\n",
    "        self.learning_rate = learning_rate\n",
    "        self.n_iterations = n_iterations\n",
    "        self.fit_intercept = fit_intercept\n",
    "        self.weights = None\n",
    "    \n",
    "    def _add_intercept(self, X):\n",
    "       \n",
    "        if self.fit_intercept:\n",
    "            intercept = np.ones((X.shape[0], 1))\n",
    "            return np.concatenate((intercept, X), axis=1)\n",
    "        return X\n",
    "    \n",
    "    def _sigmoid(self, z):\n",
    " \n",
    "        return 1 / (1 + np.exp(-z))\n",
    "        \n",
    "    def _gradient_descent_regression(self, X, y):\n",
    "       \n",
    "        m = X.shape[0]\n",
    "        \n",
    "        for _ in range(self.n_iterations):\n",
    "            y_predicted = np.dot(X, self.weights)\n",
    "            dw = (1 / m) * np.dot(X.T, (y_predicted - y))\n",
    "            self.weights -= self.learning_rate * dw\n",
    "    \n",
    "    def _gradient_descent_classification(self, X, y):\n",
    "       \n",
    "        m = X.shape[0]\n",
    "        \n",
    "        for _ in range(self.n_iterations):\n",
    "            z = np.dot(X, self.weights)\n",
    "            y_predicted = self._sigmoid(z)\n",
    "            dw = (1 / m) * np.dot(X.T, (y_predicted - y))\n",
    "            self.weights -= self.learning_rate * dw\n",
    "\n",
    "    def fit(self, X, y, mode=\"regression\"):\n",
    "        \n",
    "        X = self._add_intercept(np.array(X)) \n",
    "        y = np.array(y) \n",
    "        \n",
    "        self.weights = np.zeros(X.shape[1]) \n",
    "        \n",
    "        if mode == \"regression\":\n",
    "             self._gradient_descent_regression(X, y)\n",
    "        elif mode == \"classification\":\n",
    "            self._gradient_descent_classification(X,y)\n",
    "       \n",
    "    def predict(self, X, mode=\"regression\"):\n",
    "        \n",
    "        X = self._add_intercept(np.array(X))\n",
    "        \n",
    "        if mode == \"regression\":\n",
    "             return np.dot(X, self.weights)\n",
    "        elif mode == \"classification\":\n",
    "             z = np.dot(X, self.weights)\n",
    "             return np.round(self._sigmoid(z)) \n",
    "        \n",
    "    def evaluate(self, X, y_true, mode=\"regression\"):\n",
    "       \n",
    "        y_pred = self.predict(X, mode)\n",
    "        \n",
    "        if mode == \"regression\":\n",
    "             return mean_squared_error(y_true, y_pred)\n",
    "        elif mode == \"classification\":\n",
    "             return accuracy_score(y_true, y_pred)"
   ]
  },
  {
   "cell_type": "markdown",
   "id": "78c73998",
   "metadata": {},
   "source": [
    "#### Обучение модели о оценка качества"
   ]
  },
  {
   "cell_type": "code",
   "execution_count": 33,
   "id": "cb3d9eab",
   "metadata": {},
   "outputs": [
    {
     "name": "stdout",
     "output_type": "stream",
     "text": [
      "Accuracy: 0.675\n"
     ]
    }
   ],
   "source": [
    "model_clas = LinearRegression(learning_rate=0.01, n_iterations=1000, fit_intercept=True)\n",
    "model_clas.fit(x_train, y_train, mode=\"classification\")\n",
    "accuracy = model_clas.evaluate(x_test, y_test, mode=\"classification\")\n",
    "print(f\"Accuracy: {accuracy}\")"
   ]
  },
  {
   "cell_type": "code",
   "execution_count": 34,
   "id": "eb820cf8",
   "metadata": {},
   "outputs": [
    {
     "name": "stdout",
     "output_type": "stream",
     "text": [
      "MSE: 0.0058883153243692\n"
     ]
    }
   ],
   "source": [
    "model_reg = LinearRegression(learning_rate=0.01, n_iterations=1000, fit_intercept=True)\n",
    "model_reg.fit(z_train, w_train, mode=\"regression\")\n",
    "mse = model_reg.evaluate(z_test, w_test, mode=\"regression\")\n",
    "print(f\"MSE: {mse}\")"
   ]
  },
  {
   "cell_type": "markdown",
   "id": "dd699ba1",
   "metadata": {},
   "source": [
    "# LAB 3 - DECISION TREE"
   ]
  },
  {
   "cell_type": "markdown",
   "id": "8951ba5d",
   "metadata": {},
   "source": [
    "#### Создание бейзлайна и оценка качества для модели Desicion Tree"
   ]
  },
  {
   "cell_type": "code",
   "execution_count": 35,
   "id": "ad49798b",
   "metadata": {},
   "outputs": [
    {
     "name": "stdout",
     "output_type": "stream",
     "text": [
      "Accuracy: 0.52\n"
     ]
    }
   ],
   "source": [
    "dt_clas = DecisionTreeClassifier()\n",
    "dt_clas.fit(x_train, y_train)\n",
    "y_pred = dt_clas.predict(x_test)\n",
    "print(\"Accuracy:\", accuracy_score(y_test, y_pred))"
   ]
  },
  {
   "cell_type": "code",
   "execution_count": 36,
   "id": "881585c1",
   "metadata": {},
   "outputs": [
    {
     "name": "stdout",
     "output_type": "stream",
     "text": [
      "MSE: 0.006548351648351651\n"
     ]
    }
   ],
   "source": [
    "dt_reg = DecisionTreeRegressor()\n",
    "dt_reg.fit(z_train, w_train)\n",
    "w_pred = dt_reg.predict(z_test)\n",
    "print(\"MSE:\", mean_squared_error(w_test, w_pred))"
   ]
  },
  {
   "cell_type": "markdown",
   "id": "fbbd4de2",
   "metadata": {},
   "source": [
    "#### Улучшение бейзлайна за счет подбора гиперпараметров"
   ]
  },
  {
   "cell_type": "code",
   "execution_count": 37,
   "id": "cb0c9bab",
   "metadata": {},
   "outputs": [
    {
     "name": "stdout",
     "output_type": "stream",
     "text": [
      "Accuracy: 0.665\n"
     ]
    }
   ],
   "source": [
    "params = {'max_depth': [3, 5, 10]}\n",
    "grid_clas = GridSearchCV(DecisionTreeClassifier(), params, cv=5, scoring='accuracy')\n",
    "grid_clas.fit(x_train, y_train)\n",
    "dt_grid_clas = grid_clas.best_estimator_\n",
    "y_pred = dt_grid_clas.predict(x_test)\n",
    "print(\"Accuracy:\", accuracy_score(y_test, y_pred))"
   ]
  },
  {
   "cell_type": "code",
   "execution_count": 38,
   "id": "ab015a7e",
   "metadata": {},
   "outputs": [
    {
     "name": "stdout",
     "output_type": "stream",
     "text": [
      "MSE: 0.0028024622225629402\n"
     ]
    }
   ],
   "source": [
    "params = {'max_depth': [3, 5, 10, 15]}\n",
    "grid_reg = GridSearchCV(DecisionTreeRegressor(), params, cv=5, scoring='neg_mean_squared_error')\n",
    "grid_reg.fit(z_train, w_train)\n",
    "dt_grid_reg = grid_reg.best_estimator_\n",
    "w_pred = dt_grid_reg.predict(z_test)\n",
    "print(\"MSE:\", mean_squared_error(w_test, w_pred))"
   ]
  },
  {
   "cell_type": "markdown",
   "id": "f4d01da3",
   "metadata": {},
   "source": [
    "#### Реализация алгоритма Decision Tree"
   ]
  },
  {
   "cell_type": "code",
   "execution_count": 39,
   "id": "5ed51b76",
   "metadata": {},
   "outputs": [],
   "source": [
    "class DecisionTree:\n",
    "   \n",
    "    def __init__(self, max_depth=None, min_samples_split=2, mode=\"classification\"):\n",
    "        self.max_depth = max_depth\n",
    "        self.min_samples_split = min_samples_split\n",
    "        self.mode = mode\n",
    "        self.tree = {}\n",
    "\n",
    "    def _calculate_entropy(self, y):\n",
    "        \n",
    "        labels, counts = np.unique(y, return_counts=True)\n",
    "        probabilities = counts / len(y)\n",
    "        return -np.sum(probabilities * np.log2(probabilities + 1e-10))\n",
    "\n",
    "    def _calculate_gini(self, y):\n",
    "        \n",
    "        labels, counts = np.unique(y, return_counts=True)\n",
    "        probabilities = counts / len(y)\n",
    "        return 1 - np.sum(probabilities**2)\n",
    "    \n",
    "    def _calculate_variance(self, y):\n",
    "        return np.var(y)\n",
    "\n",
    "    def _information_gain(self, y, y_left, y_right):\n",
    "        \n",
    "       n = len(y)\n",
    "       n_left, n_right = len(y_left), len(y_right)\n",
    "       if n_left == 0 or n_right == 0:\n",
    "           return 0 #если один из наборов пустой\n",
    "       \n",
    "       if self.mode == \"classification\":\n",
    "          parent_loss = self._calculate_entropy(y) if len(np.unique(y)) > 1 else 0 # если в одном классе, то энтропия 0\n",
    "          child_loss = (n_left / n) * self._calculate_entropy(y_left) + (n_right/n) * self._calculate_entropy(y_right)\n",
    "       elif self.mode == \"regression\":\n",
    "           parent_loss = self._calculate_variance(y)\n",
    "           child_loss = (n_left / n) * self._calculate_variance(y_left) + (n_right/n) * self._calculate_variance(y_right)\n",
    "        \n",
    "\n",
    "       return parent_loss - child_loss\n",
    "\n",
    "\n",
    "    def _best_split(self, X, y):\n",
    "    \n",
    "        best_gain = 0\n",
    "        best_feature = None\n",
    "        best_threshold = None\n",
    "        \n",
    "        for feature in range(X.shape[1]):\n",
    "            unique_values = np.unique(X[:, feature])\n",
    "            for threshold in unique_values:\n",
    "                mask = X[:, feature] <= threshold\n",
    "                y_left = y[mask]\n",
    "                y_right = y[~mask]\n",
    "                gain = self._information_gain(y, y_left, y_right)\n",
    "                if gain > best_gain:\n",
    "                    best_gain = gain\n",
    "                    best_feature = feature\n",
    "                    best_threshold = threshold\n",
    "                    \n",
    "        return best_feature, best_threshold\n",
    "\n",
    "    def _build_tree(self, X, y, depth=0):\n",
    "       \n",
    "        num_samples = X.shape[0]\n",
    "        num_labels = len(np.unique(y))\n",
    "        \n",
    "        # базовый случай 1: достигнута макс. глубина дерева, либо меньше сэмплов, чем необходимо для разделения\n",
    "        if (self.max_depth is not None and depth >= self.max_depth) or \\\n",
    "           num_samples < self.min_samples_split or num_labels == 1:\n",
    "                if self.mode == \"classification\":\n",
    "                    return Counter(y).most_common(1)[0][0]\n",
    "                elif self.mode == \"regression\":\n",
    "                    return np.mean(y)\n",
    "                \n",
    "        \n",
    "        best_feature, best_threshold = self._best_split(X, y)\n",
    "\n",
    "        if best_feature is None:\n",
    "            if self.mode == \"classification\":\n",
    "                    return Counter(y).most_common(1)[0][0]\n",
    "            elif self.mode == \"regression\":\n",
    "                    return np.mean(y)\n",
    "            \n",
    "        \n",
    "        mask = X[:, best_feature] <= best_threshold\n",
    "        X_left = X[mask]\n",
    "        y_left = y[mask]\n",
    "        X_right = X[~mask]\n",
    "        y_right = y[~mask]\n",
    "\n",
    "        subtree = {\"feature\": best_feature, \"threshold\": best_threshold, \"left\": None, \"right\": None}\n",
    "        subtree[\"left\"] = self._build_tree(X_left, y_left, depth + 1)\n",
    "        subtree[\"right\"] = self._build_tree(X_right, y_right, depth + 1)\n",
    "        return subtree\n",
    "\n",
    "    def fit(self, X, y):\n",
    "       \n",
    "        self.tree = self._build_tree(np.array(X), np.array(y))\n",
    "\n",
    "    def _predict_point(self, x, tree):\n",
    "       \n",
    "       if isinstance(tree, dict): \n",
    "            if x[tree['feature']] <= tree['threshold']:\n",
    "               return self._predict_point(x, tree['left'])\n",
    "            else:\n",
    "                return self._predict_point(x, tree['right'])\n",
    "       else: \n",
    "          return tree\n",
    "       \n",
    "    def predict(self, X):\n",
    "       \n",
    "        return np.array([self._predict_point(x, self.tree) for x in X])\n",
    "\n",
    "    def evaluate(self, X, y_true):\n",
    "        \n",
    "       y_pred = self.predict(X)\n",
    "       \n",
    "       if self.mode == \"classification\":\n",
    "            return accuracy_score(y_true, y_pred)\n",
    "       elif self.mode == \"regression\":\n",
    "           return mean_squared_error(y_true, y_pred)\n"
   ]
  },
  {
   "cell_type": "markdown",
   "id": "7e3d24cb",
   "metadata": {},
   "source": [
    "#### Обучение модели о оценка качества"
   ]
  },
  {
   "cell_type": "code",
   "execution_count": 40,
   "id": "2593bfce",
   "metadata": {},
   "outputs": [
    {
     "name": "stdout",
     "output_type": "stream",
     "text": [
      "Accuracy: 0.675\n"
     ]
    }
   ],
   "source": [
    "model_clas = DecisionTree(max_depth=3, mode=\"classification\")\n",
    "model_clas.fit(x_train, y_train)\n",
    "accuracy = model_clas.evaluate(x_test, y_test)\n",
    "print(f\"Accuracy: {accuracy}\")"
   ]
  },
  {
   "cell_type": "code",
   "execution_count": 41,
   "id": "72219d3f",
   "metadata": {},
   "outputs": [
    {
     "name": "stdout",
     "output_type": "stream",
     "text": [
      "MSE: 0.0035214200324298456\n"
     ]
    }
   ],
   "source": [
    "model_reg = DecisionTree(max_depth=3, mode=\"regression\")\n",
    "model_reg.fit(z_train, w_train)\n",
    "mse = model_reg.evaluate(z_test, w_test)\n",
    "print(f\"MSE: {mse}\")"
   ]
  },
  {
   "cell_type": "markdown",
   "id": "b935e5a2",
   "metadata": {},
   "source": [
    "# LAB 4 - RANDOM FOREST"
   ]
  },
  {
   "cell_type": "markdown",
   "id": "df64235b",
   "metadata": {},
   "source": [
    "#### Создание бейзлайна и оценка качества для модели Random Forest"
   ]
  },
  {
   "cell_type": "code",
   "execution_count": 42,
   "id": "5a8412bb",
   "metadata": {},
   "outputs": [
    {
     "name": "stdout",
     "output_type": "stream",
     "text": [
      "Accuracy: 0.655\n"
     ]
    }
   ],
   "source": [
    "rf_clas = RandomForestClassifier()\n",
    "rf_clas.fit(x_train, y_train)\n",
    "y_pred = rf_clas.predict(x_test)\n",
    "print(\"Accuracy:\", accuracy_score(y_test, y_pred))"
   ]
  },
  {
   "cell_type": "code",
   "execution_count": 43,
   "id": "e94cff83",
   "metadata": {},
   "outputs": [
    {
     "name": "stdout",
     "output_type": "stream",
     "text": [
      "MSE: 0.0027514770329670397\n"
     ]
    }
   ],
   "source": [
    "rf_reg = RandomForestRegressor()\n",
    "rf_reg.fit(z_train, w_train)\n",
    "w_pred = rf_reg.predict(z_test)\n",
    "print(\"MSE:\", mean_squared_error(w_test, w_pred))"
   ]
  },
  {
   "cell_type": "markdown",
   "id": "e1c87dd3",
   "metadata": {},
   "source": [
    "#### Улучшение бейзлайна за счет подбора гиперпараметров"
   ]
  },
  {
   "cell_type": "code",
   "execution_count": 44,
   "id": "2ef0c64a",
   "metadata": {},
   "outputs": [
    {
     "name": "stdout",
     "output_type": "stream",
     "text": [
      "Accuracy: 0.665\n"
     ]
    }
   ],
   "source": [
    "params = {'n_estimators': [50, 100], 'max_depth': [10, 15]}\n",
    "grid__clas = GridSearchCV(RandomForestClassifier(), params, cv=5, scoring='accuracy')\n",
    "grid_clas.fit(x_train, y_train)\n",
    "rf_grid_reg = grid_clas.best_estimator_\n",
    "y_pred = rf_grid_reg.predict(x_test)\n",
    "print(\"Accuracy:\", accuracy_score(y_test, y_pred))"
   ]
  },
  {
   "cell_type": "code",
   "execution_count": 45,
   "id": "ca16815c",
   "metadata": {},
   "outputs": [
    {
     "name": "stdout",
     "output_type": "stream",
     "text": [
      "MSE: 0.002458735994456027\n"
     ]
    }
   ],
   "source": [
    "params = {'n_estimators': [50, 100], 'max_depth': [5, 10, 15, 20]}\n",
    "grid_reg = GridSearchCV(RandomForestRegressor(), params, cv=5, scoring='neg_mean_squared_error')\n",
    "grid_reg.fit(z_train, w_train)\n",
    "rf_grid_reg = grid_reg.best_estimator_\n",
    "w_pred = rf_grid_reg.predict(z_test)\n",
    "print(\"MSE:\", mean_squared_error(w_test, w_pred))"
   ]
  },
  {
   "cell_type": "markdown",
   "id": "95d5f024",
   "metadata": {},
   "source": [
    "#### Реализация алгоритма Random Forest"
   ]
  },
  {
   "cell_type": "code",
   "execution_count": 46,
   "id": "2a6c5bb6",
   "metadata": {},
   "outputs": [],
   "source": [
    "class RandomForest:\n",
    "    def __init__(self, n_trees=10, max_depth=3, sample_size=0.8, mode=\"classification\"):\n",
    "        self.n_trees = n_trees\n",
    "        self.max_depth = max_depth\n",
    "        self.sample_size = sample_size\n",
    "        self.mode = mode\n",
    "        self.trees = []\n",
    "\n",
    "    def fit(self, X, y):\n",
    "        self.X = np.array(X)\n",
    "        self.y = np.array(y)\n",
    "        for _ in tqdm(range(self.n_trees), desc=\"Training Trees\"):\n",
    "            indices = np.random.choice(len(self.X), int(len(self.X) * self.sample_size), replace=True)\n",
    "            X_sample, y_sample = self.X[indices], self.y[indices]\n",
    "            tree = DecisionTree(max_depth=self.max_depth, mode=self.mode)\n",
    "            tree.fit(X_sample, y_sample)\n",
    "            self.trees.append(tree)\n",
    "\n",
    "    def predict(self, X):\n",
    "        predictions = np.array([tree.predict(X) for tree in self.trees])\n",
    "        if self.mode == \"classification\":\n",
    "            return np.apply_along_axis(lambda x: np.bincount(x).argmax(), axis=0, arr=predictions)\n",
    "        else:\n",
    "            return np.mean(predictions, axis=0)\n",
    "    def evaluate(self, X, y_true):\n",
    "        \n",
    "       y_pred = self.predict(X)\n",
    "       \n",
    "       if self.mode == \"classification\":\n",
    "            return accuracy_score(y_true, y_pred)\n",
    "       elif self.mode == \"regression\":\n",
    "           return mean_squared_error(y_true, y_pred)\n",
    "    \n",
    "    "
   ]
  },
  {
   "cell_type": "markdown",
   "id": "253c63e4",
   "metadata": {},
   "source": [
    "#### Обучение модели о оценка качества"
   ]
  },
  {
   "cell_type": "code",
   "execution_count": 47,
   "id": "460ffb91",
   "metadata": {},
   "outputs": [
    {
     "name": "stderr",
     "output_type": "stream",
     "text": [
      "Training Trees: 100%|███████████████████████████| 10/10 [00:08<00:00,  1.16it/s]"
     ]
    },
    {
     "name": "stdout",
     "output_type": "stream",
     "text": [
      "Accuracy: 0.675\n"
     ]
    },
    {
     "name": "stderr",
     "output_type": "stream",
     "text": [
      "\n"
     ]
    }
   ],
   "source": [
    "model_clas = RandomForest(max_depth=3, mode=\"classification\")\n",
    "model_clas.fit(x_train, y_train)\n",
    "accuracy = model_clas.evaluate(x_test, y_test)\n",
    "print(f\"Accuracy: {accuracy}\")"
   ]
  },
  {
   "cell_type": "code",
   "execution_count": 48,
   "id": "0e4633a3",
   "metadata": {},
   "outputs": [
    {
     "name": "stderr",
     "output_type": "stream",
     "text": [
      "Training Trees: 100%|███████████████████████████| 10/10 [00:00<00:00, 16.42it/s]"
     ]
    },
    {
     "name": "stdout",
     "output_type": "stream",
     "text": [
      "MSE: 0.003425663087114921\n"
     ]
    },
    {
     "name": "stderr",
     "output_type": "stream",
     "text": [
      "\n"
     ]
    }
   ],
   "source": [
    "model_reg = RandomForest(max_depth=3, mode=\"regression\")\n",
    "model_reg.fit(z_train, w_train)\n",
    "mse = model_reg.evaluate(z_test, w_test)\n",
    "print(f\"MSE: {mse}\")"
   ]
  },
  {
   "cell_type": "markdown",
   "id": "6f729030",
   "metadata": {},
   "source": [
    "# LAB 5 - GRADIENT BOOSTING"
   ]
  },
  {
   "cell_type": "markdown",
   "id": "31f2055a",
   "metadata": {},
   "source": [
    "#### Создание бейзлайна и оценка качества для модели Gradint Boosting"
   ]
  },
  {
   "cell_type": "code",
   "execution_count": 49,
   "id": "86264541",
   "metadata": {},
   "outputs": [
    {
     "name": "stdout",
     "output_type": "stream",
     "text": [
      "Accuracy: 0.63\n"
     ]
    }
   ],
   "source": [
    "gb_clas = GradientBoostingClassifier()\n",
    "gb_clas.fit(x_train, y_train)\n",
    "y_pred = gb_clas.predict(x_test)\n",
    "print(\"Accuracy:\", accuracy_score(y_test, y_pred))"
   ]
  },
  {
   "cell_type": "code",
   "execution_count": 50,
   "id": "6696c8f3",
   "metadata": {},
   "outputs": [
    {
     "name": "stdout",
     "output_type": "stream",
     "text": [
      "MSE: 0.0026539676331362905\n"
     ]
    }
   ],
   "source": [
    "gb_reg = GradientBoostingRegressor()\n",
    "gb_reg.fit(z_train, w_train)\n",
    "w_pred = gb_reg.predict(z_test)\n",
    "print(\"MSE:\", mean_squared_error(w_test, w_pred))"
   ]
  },
  {
   "cell_type": "markdown",
   "id": "7c43974e",
   "metadata": {},
   "source": [
    "#### Улучшение бейзлайна за счет подбора гиперпараметров"
   ]
  },
  {
   "cell_type": "code",
   "execution_count": 51,
   "id": "f2dfb6e6",
   "metadata": {},
   "outputs": [
    {
     "name": "stdout",
     "output_type": "stream",
     "text": [
      "Accuracy: 0.675\n"
     ]
    }
   ],
   "source": [
    "params = {'n_estimators': [50, 100], 'max_depth': [3, 5], 'learning_rate': [0.1, 0.01]}\n",
    "grid_clas = GridSearchCV(GradientBoostingClassifier(), params, cv=5, scoring='accuracy')\n",
    "grid_clas.fit(x_train, y_train)\n",
    "gb_grid_clas = grid_clas.best_estimator_\n",
    "y_pred = gb_grid_clas.predict(x_test)\n",
    "print(\"Accuracy:\", accuracy_score(y_test, y_pred))"
   ]
  },
  {
   "cell_type": "code",
   "execution_count": 52,
   "id": "9a255b7b",
   "metadata": {},
   "outputs": [
    {
     "name": "stdout",
     "output_type": "stream",
     "text": [
      "MSE: 0.002546143547670316\n"
     ]
    }
   ],
   "source": [
    "params = {'n_estimators': [50, 100], 'max_depth': [3, 5], 'learning_rate': [0.1, 0.01]}\n",
    "grid_reg = GridSearchCV(GradientBoostingRegressor(), params, cv=5, scoring='neg_mean_squared_error')\n",
    "grid_reg.fit(z_train, w_train)\n",
    "gb_grid_reg = grid_reg.best_estimator_\n",
    "w_pred = gb_grid_reg.predict(z_test)\n",
    "print(\"MSE:\", mean_squared_error(w_test, w_pred))"
   ]
  },
  {
   "cell_type": "markdown",
   "id": "46ffb8df",
   "metadata": {},
   "source": [
    "#### Реализация алгоритма Gradient Boosting"
   ]
  },
  {
   "cell_type": "code",
   "execution_count": 53,
   "id": "d29d8d9c",
   "metadata": {},
   "outputs": [],
   "source": [
    "class GradientBoosting:\n",
    "  \n",
    "\n",
    "    def __init__(self, n_estimators=100, learning_rate=0.1, max_depth=3, loss=\"mse\"):\n",
    "        self.n_estimators = n_estimators\n",
    "        self.learning_rate = learning_rate\n",
    "        self.max_depth = max_depth\n",
    "        self.loss = loss\n",
    "        self.init_prediction = None\n",
    "        self.trees = []\n",
    "\n",
    "    def _calculate_gradient(self, y_true, y_pred):\n",
    "      \n",
    "        if self.loss == \"mse\":\n",
    "            return y_true - y_pred\n",
    "        elif self.loss == \"logloss\":\n",
    "            \n",
    "            sigmoid = 1 / (1 + np.exp(-y_pred))\n",
    "            return y_true - sigmoid\n",
    "    \n",
    "    def fit(self, X, y):\n",
    "        \n",
    "        \n",
    "        if self.loss == \"logloss\":\n",
    "           \n",
    "            unique_labels = np.unique(y)\n",
    "            if len(unique_labels) > 2:\n",
    "                raise ValueError(\"Для 'logloss' целевая переменная должна быть бинарной\")\n",
    "            \n",
    "            self.init_prediction = np.log(np.sum(y == unique_labels[1]) / np.sum(y == unique_labels[0])) \n",
    "        else:\n",
    "            self.init_prediction = np.mean(y)\n",
    "        \n",
    "        \n",
    "        y_pred = np.full_like(y, self.init_prediction, dtype=float) \n",
    "\n",
    "        for _ in range(self.n_estimators):\n",
    "        \n",
    "            residuals = self._calculate_gradient(y, y_pred)\n",
    "\n",
    "           \n",
    "            tree = DecisionTreeRegressor(max_depth=self.max_depth)\n",
    "            tree.fit(X, residuals)\n",
    "        \n",
    "            y_pred += self.learning_rate * tree.predict(X)\n",
    "\n",
    "           \n",
    "            self.trees.append(tree)\n",
    "\n",
    "    def predict(self, X):\n",
    "       \n",
    "        y_pred = np.full(X.shape[0], self.init_prediction, dtype=float)\n",
    "\n",
    "        for tree in self.trees:\n",
    "            y_pred += self.learning_rate * tree.predict(X)\n",
    "        \n",
    "        if self.loss == \"logloss\":\n",
    "            return 1 / (1 + np.exp(-y_pred)) \n",
    "        else:\n",
    "            return y_pred\n",
    "\n",
    "    def evaluate(self, X, y_true):\n",
    "        \n",
    "        y_pred = self.predict(X)\n",
    "        \n",
    "        if self.loss == \"mse\":\n",
    "            return mean_squared_error(y_true, y_pred)\n",
    "        elif self.loss == \"logloss\":\n",
    "             y_pred_binary = np.round(y_pred)  # Преобразуем вероятности в классы 0 или 1\n",
    "             return accuracy_score(y_true, y_pred_binary)\n",
    "        \n",
    "\n"
   ]
  },
  {
   "cell_type": "markdown",
   "id": "902e4f81",
   "metadata": {},
   "source": [
    "#### Обучение модели о оценка качества"
   ]
  },
  {
   "cell_type": "code",
   "execution_count": 54,
   "id": "0ba94941",
   "metadata": {},
   "outputs": [
    {
     "name": "stdout",
     "output_type": "stream",
     "text": [
      "Accuaracy: 0.675\n"
     ]
    }
   ],
   "source": [
    "model_clas = GradientBoosting(n_estimators=100, learning_rate=0.1, max_depth=3, loss=\"logloss\")\n",
    "model_clas.fit(x_train, y_train)\n",
    "accuaracy = model_clas.evaluate(x_test, y_test)\n",
    "print(f\"Accuaracy: {accuaracy}\")"
   ]
  },
  {
   "cell_type": "code",
   "execution_count": 55,
   "id": "4b56e735",
   "metadata": {},
   "outputs": [
    {
     "name": "stdout",
     "output_type": "stream",
     "text": [
      "Регрессия MSE: 0.002677959447156116\n"
     ]
    }
   ],
   "source": [
    "model_reg = GradientBoosting(n_estimators=100, learning_rate=0.1, max_depth=3, loss=\"mse\")\n",
    "model_reg.fit(z_train, w_train)\n",
    "mse = model_reg.evaluate(z_test, w_test)\n",
    "print(f\"Регрессия MSE: {mse}\")"
   ]
  }
 ],
 "metadata": {
  "kernelspec": {
   "display_name": "Python 3 (ipykernel)",
   "language": "python",
   "name": "python3"
  },
  "language_info": {
   "codemirror_mode": {
    "name": "ipython",
    "version": 3
   },
   "file_extension": ".py",
   "mimetype": "text/x-python",
   "name": "python",
   "nbconvert_exporter": "python",
   "pygments_lexer": "ipython3",
   "version": "3.8.0"
  }
 },
 "nbformat": 4,
 "nbformat_minor": 5
}
